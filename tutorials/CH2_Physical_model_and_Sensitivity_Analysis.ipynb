{
 "cells": [
  {
   "cell_type": "code",
   "execution_count": null,
   "outputs": [],
   "source": [
    "from pathlib import Path\n",
    "import os\n",
    "\n",
    "import pandas as pd\n",
    "\n",
    "TUTORIAL_DIR = Path(os.getcwd()).as_posix()"
   ],
   "metadata": {
    "collapsed": false,
    "pycharm": {
     "name": "#%%\n"
    }
   }
  },
  {
   "cell_type": "markdown",
   "source": [
    "# Physical model"
   ],
   "metadata": {
    "collapsed": false
   }
  },
  {
   "cell_type": "markdown",
   "source": [
    "For this example we propose a resistance/capacity approach.\n",
    " Based on electrical circuit analogy, each layer of the wall is modeled by two resistance and a capacity:\n",
    "\n",
    "![image.png](Wall_model.png)\n",
    "\n",
    "The following is a brief description of the thermal model, as it is not the scope of this document. See the <code>*mo</code> for full informations.\n",
    "\n",
    "- Each wall layer is modeled by 2 thermal resistances and a capacity.\n",
    "    - $ R_1 = R_2 = \\frac{ep_{layer}}{lambda_{layer} \\times 2} $\n",
    "    - $ C = ep_{layer} \\times rho_{layer} \\times cap_{layer} $\n",
    "\n",
    "\n",
    "- Inside and outside convection/conduction transfers are model as a constant value thermal resistance.\n",
    "\n",
    "\n",
    "- Infrared transfers are considered :\n",
    "    - With the sky, with $ T_{sky} = 0.0552T_{ext}^{1.5} $\n",
    "    - With the surrounding considered to be at $ T_{ext} $\n",
    "\n",
    "\n",
    "- Short wave solar radiation heat flux is computed $Sw_{gain} = Pyr \\times \\alpha_{coat} $ with $Pyr$ the measured solar radiation onthe wall (W/m²) and  $\\alpha_{coat}$ the coating solar absorbtion coefficient.\n",
    "\n",
    "\n",
    "- $ T_{ext}$ and $T_{int} $ are boundary conditions\n",
    "\n",
    "\n",
    "Initial conditions for the layers temperatures are taken from the measured data.\n",
    " It is assumed to be the mean temperature measured by the sensors on each face of a layer.\n",
    " In python and using modelica \"object name\", it can be written :"
   ],
   "metadata": {
    "collapsed": false
   }
  },
  {
   "cell_type": "code",
   "execution_count": null,
   "outputs": [],
   "source": [
    "init_dict = {\n",
    "    \"Twall_init\": 24.81 + 273.15,\n",
    "    \"Tins1_init\": 19.70 + 273.15,\n",
    "    \"Tins2_init\": 10.56 + 273.15,\n",
    "    \"Tcoat_init\": 6.4 + 273.15,\n",
    "}"
   ],
   "metadata": {
    "collapsed": false,
    "pycharm": {
     "name": "#%%\n"
    }
   }
  },
  {
   "cell_type": "markdown",
   "source": [
    "We specify the simulation running options. As the initial condition, it is written\n",
    "as a python dictionary.\n",
    "\n",
    "In Modelica, <code>startTime</code> and <code>stopTime</code> correspond to the number\n",
    "of seconds since the beginning of the year. The values can be found in the file created\n",
    "earlier using <code>df_to_combitimetable</code>\n",
    "\n",
    "<code>stepSize</code> is the simulation timestep size. In this case it's 5min or\n",
    "300sec.\n",
    "\n",
    "<code>tolerance</code> and <code>solver</code> are related to solver configuration\n",
    "do not change if you don't need to."
   ],
   "metadata": {
    "collapsed": false
   }
  },
  {
   "cell_type": "code",
   "execution_count": null,
   "outputs": [],
   "source": [
    "simulation_opt = {\n",
    "        \"startTime\": 6912000,\n",
    "        \"stopTime\": 7084500,\n",
    "        \"stepSize\": 300,\n",
    "        \"tolerance\": 1e-06,\n",
    "        \"solver\": \"dassl\"\n",
    "}"
   ],
   "metadata": {
    "collapsed": false,
    "pycharm": {
     "name": "#%%\n"
    }
   }
  },
  {
   "cell_type": "markdown",
   "source": [
    "We can now define a modelitool <code>Simulator</code>. This object is designed\n",
    "to handle modelica simulation and output post treatment. It will be used\n",
    "in objects that automate simulation such as an <code>Identificator</code>\n",
    "or a <code>SAnalysis</code> object."
   ],
   "metadata": {
    "collapsed": false
   }
  },
  {
   "cell_type": "code",
   "execution_count": null,
   "outputs": [],
   "source": [
    "from modelitool.simulate import Simulator"
   ],
   "metadata": {
    "collapsed": false,
    "pycharm": {
     "name": "#%%\n"
    }
   }
  },
  {
   "cell_type": "code",
   "execution_count": null,
   "outputs": [],
   "source": [
    "# Values in output list correspond to sensors name and value \"T\"\n",
    "simu = Simulator(\n",
    "    model_path=Path(TUTORIAL_DIR) / \"etics_v0.mo\",\n",
    "    simulation_options=simulation_opt,\n",
    "    init_parameters=init_dict,\n",
    "    output_list=[\"T_coat_ins.T\",\n",
    "                 \"T_ins_ins.T\",\n",
    "                 \"Tw_out.T\"],\n",
    ")"
   ],
   "metadata": {
    "collapsed": false,
    "pycharm": {
     "name": "#%%\n"
    }
   }
  },
  {
   "cell_type": "markdown",
   "source": [
    "From here, it is very simple to run a simulation using <code>simulate()</code>\n",
    "method, and to get the results required in <code>output_list</code> using\n",
    "<code>get_results()</code> method."
   ],
   "metadata": {
    "collapsed": false,
    "pycharm": {
     "name": "#%% md\n"
    }
   }
  },
  {
   "cell_type": "code",
   "source": [
    "simu.simulate()\n",
    "initial_results = simu.get_results()"
   ],
   "metadata": {
    "collapsed": false,
    "pycharm": {
     "name": "#%%\n"
    }
   },
   "execution_count": null,
   "outputs": []
  },
  {
   "cell_type": "markdown",
   "source": [
    "If we want to compare these results to the measures, we have to load the\n",
    "boundary file.\n",
    "\n",
    "*Note: since Modelica uses seconds, time axis in the rest of the document it will\n",
    " be in seconds. A conversion function might be integrated in next versions*"
   ],
   "metadata": {
    "collapsed": false,
    "pycharm": {
     "name": "#%% md\n"
    }
   }
  },
  {
   "cell_type": "code",
   "execution_count": null,
   "outputs": [],
   "source": [
    "#Pandas lines to load boundary file\n",
    "reference_df = pd.read_csv(\n",
    "    Path(TUTORIAL_DIR) / \"boundary_temp.txt\",\n",
    "    skiprows=3,\n",
    "    sep='\\t',\n",
    "    index_col=0,\n",
    "    header=None,\n",
    ")\n",
    "\n",
    "reference_df.columns = [\"T_ext\", \"Sol_rad\", \"T_Wall_Ins\", \"T_Ins_Ins\",\n",
    "                        \"T_Ins_Coat\", \"T_int\"]\n",
    "\n",
    "temperature_columns = [\"T_ext\", \"T_Wall_Ins\", \"T_Ins_Ins\",\n",
    "                        \"T_Ins_Coat\", \"T_int\"]\n",
    "\n",
    "reference_df[temperature_columns] = reference_df[temperature_columns] + 273.15"
   ],
   "metadata": {
    "collapsed": false,
    "pycharm": {
     "name": "#%%\n"
    }
   }
  },
  {
   "cell_type": "code",
   "execution_count": null,
   "outputs": [],
   "source": [
    "# Plotly lines\n",
    "import plotly.graph_objects as go\n",
    "\n",
    "fig = go.Figure()\n",
    "fig.add_trace(go.Scatter(\n",
    "    x=initial_results.index,\n",
    "    y=initial_results[\"T_ins_ins.T\"],\n",
    "    fill=None,\n",
    "    mode='lines',\n",
    "    line_color='brown',\n",
    "    name=\"Model_results\"\n",
    "))\n",
    "\n",
    "fig.add_trace(go.Scatter(\n",
    "    x=reference_df.index,\n",
    "    y=reference_df.T_Ins_Ins,\n",
    "    fill='tonexty', # fill area between trace0 and trace1\n",
    "    mode='lines',\n",
    "    line_color='orange',\n",
    "    name=\"Reference_measure\"\n",
    "))\n",
    "\n",
    "fig.update_layout(\n",
    "    title='Model VS Reality : temperature between two layer of insulation',\n",
    "    xaxis_title='Time [sec since 01/01]',\n",
    "    yaxis_title='Temperature [K]')\n",
    "\n",
    "fig.show()"
   ],
   "metadata": {
    "collapsed": false,
    "pycharm": {
     "name": "#%%\n"
    }
   }
  },
  {
   "cell_type": "markdown",
   "source": [
    "Considering the above graphic, we could say that the model results are pretty bad.\n",
    "- The difference between predicted and measured temperature reaches ~10K\n",
    "- There seem to be a small \"shift\" between model and reality.\n",
    "Reference temperature peaks are happening earlier than model peaks.\n",
    "\n",
    "There can be a lot of causes to this discrepancy. From physical phenomenon approximation\n",
    "to material physical properties values.\n",
    "\n",
    "*A good Idea would be to plot the other outputs variables or to perform a heat\n",
    "balance analysis. But remember that this is a tutorial to use modelitool :).*\n",
    "\n",
    "*For now we will just go on, and perform a sensitivity analysis*\n",
    "\n",
    "# Sensitivity analisys\n",
    "\n",
    "This project aims at characterizing the insulation material thermal conductivity.\n",
    "To do so, we want to find the value $ \\lambda_{etics} $ that would minimise the discrepancy between\n",
    "predicted temperature between 2 layers of insulation material and the sensors measures.\n",
    "\n",
    "However, it is very important to know how $ \\lambda_{etics} $ is important\n",
    "to describe the error. Other assumptions, such as material thermal properties may\n",
    "have a strong influence on the model prediction.\n",
    "\n",
    "Therefore, we use the sensitivity analysis to \"rank\" the parameter by order of influence\n",
    "on the error between measured temperature and model prediction.\n",
    "\n",
    "The chosen error function is the Mean Square Error (RMSE):\n",
    "\n",
    "$MSE = \\frac{1}{1-N}\\sum \\limits_{i=1}^{N} (y_i - \\hat y_i)^2$\n",
    "\n",
    "The chosen parameters for the sensitivity analysis are listed below:\n",
    "- Concrete thermal capacity <code>capa_concrete</code> with an uncertainty of 20%\n",
    "- Concrete density <code>rho_concrete</code> with an uncertainty of 20%\n",
    "- All layer thermal conductivity with an uncertainty af 20%\n",
    "- The coating shortwave solar absorption coefficient <code>Alpha_clo</code>\n",
    "with an uncertainty of 20%\n",
    "- The inside and outside conductive/convective equivalent thermal resistance\n",
    "with an uncertainty of 20%\n",
    "\n",
    "In modelitool, these uncertainties must be described using a dictionary:"
   ],
   "metadata": {
    "collapsed": false,
    "pycharm": {
     "name": "#%% md\n"
    }
   }
  },
  {
   "cell_type": "code",
   "source": [
    "modelitool_problem = {\n",
    "    \"capa_concrete\": [1000-0.2*1000, 1000+0.2*1000],\n",
    "    \"rho_concrete\": [875-0.2*875, 875+0.2*875],\n",
    "    \"lambda_concrete\": [1-0.2*1, 1+0.2*1],\n",
    "    \"lambda_coating\": [1-0.2*1, 1+0.2*1],\n",
    "    \"Lambda_ins.k\": [0.04-0.2*0.04, 0.04+0.2*0.04],\n",
    "    \"Alpha_clo.k\": [0.5-0.2*0.5, 0.5+0.2*0.5],\n",
    "    \"R_conv_ext.k\": [0.04-0.2*0.04, 0.04+0.2*0.04],\n",
    "    \"R_conv_int.k\": [0.13-0.2*0.13, 0.13+0.2*0.13],\n",
    "}"
   ],
   "metadata": {
    "collapsed": false,
    "pycharm": {
     "name": "#%%\n"
    }
   },
   "execution_count": null,
   "outputs": []
  },
  {
   "cell_type": "markdown",
   "source": [
    "We can now use a <code>SAnalysis</code> to set-up the study. We have to pass\n",
    "the <code>Simulator</code> previously describe, along with the corresponding\n",
    " problem description. A Sensitivity Analysis is also required. In this case we choose Sobol\n",
    ", as there is few uncertain parameter.\n",
    "\n",
    "*Note: for now only <code>Sobol</code>, <code>Sobol</code>, <code>FAST</code>,\n",
    "and <code>Morris</code> methods are implemented.*"
   ],
   "metadata": {
    "collapsed": false,
    "pycharm": {
     "name": "#%% md\n"
    }
   }
  },
  {
   "cell_type": "code",
   "execution_count": null,
   "outputs": [],
   "source": [
    "from modelitool.sensitivity import SAnalysis\n",
    "\n",
    "sa_study = SAnalysis(\n",
    "    simulator=simu,\n",
    "    sensitivity_method=\"Sobol\",\n",
    "    parameters_config=modelitool_problem\n",
    ")\n"
   ],
   "metadata": {
    "collapsed": false,
    "pycharm": {
     "name": "#%%\n"
    }
   }
  },
  {
   "cell_type": "markdown",
   "source": [
    "We draw a sample of parameters to simulate. Each method has its sampling method.\n",
    "Please see SALib documentation for further explanation (https://salib.readthedocs.io/en/latest/index.html)"
   ],
   "metadata": {
    "collapsed": false,
    "pycharm": {
     "name": "#%% md\n"
    }
   }
  },
  {
   "cell_type": "code",
   "execution_count": null,
   "outputs": [],
   "source": [
    "# Additional arguments can be passed. if arguments is not used it\n",
    "# Uses default SALib configuration\n",
    "sa_study.draw_sample(n=100, arguments={\"calc_second_order\": True})"
   ],
   "metadata": {
    "collapsed": false,
    "pycharm": {
     "name": "#%%\n"
    }
   }
  },
  {
   "cell_type": "markdown",
   "source": [
    "The sample is available as a 2d array <code>sa_study.sample</code>. Lines are simulations\n",
    "to run and columns are parameters values.\n",
    "\n",
    "Let's run the simulations.\n",
    "\n",
    "**CAREFUL depending on your computer, it can take a long time in my case 30'**"
   ],
   "metadata": {
    "collapsed": false,
    "pycharm": {
     "name": "#%% md\n"
    }
   }
  },
  {
   "cell_type": "code",
   "execution_count": null,
   "outputs": [],
   "source": [
    "sa_study.run_simulations()"
   ],
   "metadata": {
    "collapsed": false,
    "pycharm": {
     "name": "#%%\n"
    }
   }
  },
  {
   "cell_type": "code",
   "execution_count": null,
   "outputs": [],
   "source": [],
   "metadata": {
    "collapsed": false,
    "pycharm": {
     "name": "#%%\n"
    }
   }
  }
 ],
 "metadata": {
  "kernelspec": {
   "display_name": "Python 3",
   "language": "python",
   "name": "python3"
  },
  "language_info": {
   "codemirror_mode": {
    "name": "ipython",
    "version": 2
   },
   "file_extension": ".py",
   "mimetype": "text/x-python",
   "name": "python",
   "nbconvert_exporter": "python",
   "pygments_lexer": "ipython2",
   "version": "2.7.6"
  }
 },
 "nbformat": 4,
 "nbformat_minor": 0
}