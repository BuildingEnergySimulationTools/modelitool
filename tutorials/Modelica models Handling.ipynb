{
 "cells": [
  {
   "cell_type": "code",
   "execution_count": null,
   "id": "b28b6845",
   "metadata": {},
   "outputs": [],
   "source": [
    "import os\n",
    "from pathlib import Path\n",
    "\n",
    "import pandas as pd"
   ]
  },
  {
   "cell_type": "markdown",
   "id": "77e18887-a12e-4198-a72b-dcc420528518",
   "metadata": {},
   "source": [
    "# Tutorial for handling Modelica models \n",
    "The aim of this tutorial is to show how to generate boundary files (.txt) for Modelica models, to load Modelica models on python, set up and launch simulations using **Modelitool**."
   ]
  },
  {
   "cell_type": "markdown",
   "id": "13ff37e6-d666-4c81-96d0-7913eeead9d4",
   "metadata": {},
   "source": [
    "# 1. Proposed model "
   ]
  },
  {
   "cell_type": "markdown",
   "id": "4b6c113a-ccdb-4fb5-a81d-fa75473028c7",
   "metadata": {},
   "source": [
    "In this tutorial, we create of model of following wall, tested a \"real scale\" bench. The Nobatek BEF (Banc d'Essais Façade) provides experimental cells to test building façade solutions. The heat exchanges in a cell are limited on 5 of its faces. The 6th face is dedicated to the tested solution. Internal temperature and hydrometry conditions can be controlled or monitored. External conditions are measured (temperatures and solar radiation).  we propose a resistance/capacity approach.\n",
    "\n",
    "\n",
    "| Figure : Pictures and model of the bench tested wall |\n",
    "| :---: |\n",
    "| <img src=\"images/etics_pict.png\" style=\"height:200px;\">  <img src=\"images/etics_sch.png\"  style=\"height:200px;\"> |\n",
    "\n",
    "Based on electrical circuit analogy, each layer of the wall is modeled by two resistance and a capacity.\n",
    "The model was built using openModelica : \n",
    "\n",
    "<img src=\"images/OM_eticsmodel.png\"  height=\"200\">\n",
    "\n",
    "The following is a brief description of the thermal model, as it is not the scope of this document. See the <code>*mo</code> for full informations.\n",
    "\n",
    "- Each wall layer is modeled by 2 thermal resistances and a capacity.\n",
    "    - Resistances : $ R_1 = R_2 = \\frac{ep_{layer}}{lambda_{layer} \\times 2} $\n",
    "    - Capacity : $ C = ep_{layer} \\times rho_{layer} \\times cap_{layer} $\n",
    "\n",
    "    \n",
    "- Inside and outside convection/conduction transfers are model as a constant value thermal resistance.\n",
    "\n",
    "\n",
    "- Infrared transfers are considered :\n",
    "    - With the sky, with $ T_{sky} = 0.0552T_{ext}^{1.5} $\n",
    "    - With the surrounding considered to be at $ T_{ext} $\n",
    "\n",
    "\n",
    "- Short wave solar radiation heat flux is computed $Sw_{gain} = Pyr \\times \\alpha_{coat} $ with $Pyr$ the measured solar radiation onthe wall (W/m²) and  $\\alpha_{coat}$ the coating solar absorbtion coefficient.\n",
    "\n",
    "\n",
    "- Temperatures $ T_{ext}$ and $T_{int} $ are boundary conditions\n",
    "\n",
    "\n",
    "Initial conditions for the layers temperatures are taken from the measured data."
   ]
  },
  {
   "cell_type": "markdown",
   "id": "94f78fac-8238-4755-a876-3b7b63a8c323",
   "metadata": {},
   "source": [
    "# 2. Set boundary file\n",
    "## Option A: load csv file\n",
    "Let's load measurement data on python. We can use this dataframe to define boundary conditions of our model."
   ]
  },
  {
   "cell_type": "code",
   "execution_count": null,
   "id": "71e65ff5-8023-4cd5-884d-c0c1c4118235",
   "metadata": {},
   "outputs": [],
   "source": [
    "TUTORIAL_DIR = Path(os.getcwd()).as_posix()"
   ]
  },
  {
   "cell_type": "code",
   "execution_count": null,
   "id": "fae39639-7b9d-42c7-ae6f-d403b570dd0b",
   "metadata": {},
   "outputs": [],
   "source": [
    "reference_df = pd.read_csv(\n",
    "    Path(TUTORIAL_DIR) / \"resources/study_df.csv\", index_col=0, parse_dates=True\n",
    ")"
   ]
  },
  {
   "cell_type": "markdown",
   "id": "16fac796-7386-4688-8066-8f559d36effe",
   "metadata": {},
   "source": [
    "## Option B: Create boundary file for Modelica model\n",
    "Or, before loading the Modelica model (*.mo), one might want to generate boundary files with the right format (.txt) to use it their model. For this, you can use combitabconvert from modelitool.\n",
    "\n",
    "Make sure beforehand your data is clean: no NAs, non monotonically increasing index, abberant values, etc.\n",
    "\n",
    "**_Note : Note that you have to manually configure the file path in\n",
    "the <code>combiTimetable</code> of your modelica model_**"
   ]
  },
  {
   "cell_type": "code",
   "execution_count": null,
   "id": "37735475-89a1-4bc2-a8ae-1af8ca73cf45",
   "metadata": {},
   "outputs": [],
   "source": [
    "from modelitool.combitabconvert import df_to_combitimetable"
   ]
  },
  {
   "cell_type": "code",
   "execution_count": null,
   "id": "f2de6868-8016-4fe4-a191-8c4325095fbd",
   "metadata": {},
   "outputs": [],
   "source": [
    "df_to_combitimetable(\n",
    "    df=reference_df.loc[\"2018-03-22\":\"2018-03-23\"],\n",
    "    filename=\"resources/boundary_temp.txt\",\n",
    ")"
   ]
  },
  {
   "cell_type": "markdown",
   "id": "844bd7c8-6bcb-4b3e-ab27-602b016da2fc",
   "metadata": {},
   "source": [
    "# 3. Load model from Modelica"
   ]
  },
  {
   "cell_type": "markdown",
   "id": "0ea8c4b4-2eab-429c-a67d-743aaa47a5bd",
   "metadata": {},
   "source": [
    "To avoid loading all ouptut from modelica model, let's first define a list of output that will be included in the dataframe output for any simulation."
   ]
  },
  {
   "cell_type": "code",
   "execution_count": null,
   "id": "64149508-369a-4a8c-8928-6c71090b4428",
   "metadata": {},
   "outputs": [],
   "source": [
    "output_list = [\"T_coat_ins.T\", \"T_ins_ins.T\", \"Tw_out.T\"]"
   ]
  },
  {
   "cell_type": "markdown",
   "id": "b092bb4236cc85f3",
   "metadata": {},
   "source": [
    "Now, we can load the *om file.\n",
    "\n",
    "The `OMModel` class is used to load and simulate Modelica models. It requires the following parameters:\n",
    "\n",
    "- `model_path`: Path to the Modelica model file (*.mo) or model name if already loaded in OpenModelica\n",
    "- `package_path` (optional): Path to additional Modelica packages required by the model\n",
    "- `simulation_options` (optional): Dictionary containing simulation settings like:\n",
    "  - `startTime`: Start time in seconds\n",
    "  - `stopTime`: Stop time in seconds\n",
    "  - `stepSize`: Time step for the simulation\n",
    "  - `tolerance`: Numerical tolerance for the solver\n",
    "  - `solver`: Solver to use (e.g. \"dassl\")\n",
    "  - `outputFormat`: \"mat\" or \"csv\" for results format\n",
    "  - `x`: Boundary conditions as a DataFrame (optional)\n",
    "- `output_list` (optional): List of variables to include in simulation results\n",
    "- `lmodel` (optional): List of required Modelica libraries (e.g. [\"Modelica\"])"
   ]
  },
  {
   "cell_type": "code",
   "execution_count": null,
   "id": "3264057e-66ef-41c6-b75a-6efd28748f8c",
   "metadata": {},
   "outputs": [],
   "source": [
    "from modelitool.simulate import OMModel"
   ]
  },
  {
   "cell_type": "code",
   "execution_count": null,
   "id": "8d9bfb90-3f07-49e9-9d7f-314ec3a07fc1",
   "metadata": {},
   "outputs": [],
   "source": [
    "simu_OM = OMModel(\n",
    "    model_path=Path(TUTORIAL_DIR) / \"resources/etics_v0.mo\",\n",
    "    output_list=output_list,\n",
    "    lmodel=[\"Modelica\"],\n",
    ")"
   ]
  },
  {
   "cell_type": "markdown",
   "id": "766241a0-95b8-4916-9206-1ca240b2f361",
   "metadata": {},
   "source": [
    "#### Set up simulation options \n",
    "\n",
    "As they were not specified when instantiating OMModel, simulation running options (if different from the one provided by the modelica model) should be defined.\n",
    "\n",
    "In Modelica, <code>startTime</code> and <code>stopTime</code> correspond to the number\n",
    "of seconds since the beginning of the year. \n",
    "\n",
    "The values can be found in the file created earlier using <code>df_to_combitimetable</code> . Another way is to use the index of the <code>DataFrame</code> we just created.\n",
    "The modelitool function <code>modelitool.combitabconvert.datetime_to_seconds</code>\n",
    "helps you convert datetime index in seconds.\n"
   ]
  },
  {
   "cell_type": "code",
   "execution_count": null,
   "id": "b26a8f6e-2f1a-41ed-a74e-dc9a41435110",
   "metadata": {},
   "outputs": [],
   "source": [
    "from modelitool.combitabconvert import datetime_to_seconds"
   ]
  },
  {
   "cell_type": "code",
   "execution_count": null,
   "id": "a7472557-a5af-49bf-8ffc-08f30741e4c9",
   "metadata": {},
   "outputs": [],
   "source": [
    "simulation_df = reference_df.loc[\"2018-03-22\":\"2018-03-23\"]\n",
    "second_index = datetime_to_seconds(simulation_df.index)"
   ]
  },
  {
   "cell_type": "markdown",
   "id": "9d771fd7-bdde-4b90-9d3e-699d3f488099",
   "metadata": {},
   "source": [
    "- <code>stepSize</code> is the simulation timestep size. In this case it's 5 min or\n",
    "300 sec.\n",
    "- <code>tolerance</code> and <code>solver</code> are related to solver configuration\n",
    "do not change if you don't need to.\n",
    "- <code>outputFormat</code> can be either csv or mat. csv will enable faster data handling during sensitivity analyses and optimizations.\n",
    "- <code>x</code>: as the boundary conditions. If not given here, it can still be provided in method `simulate`."
   ]
  },
  {
   "cell_type": "code",
   "execution_count": null,
   "id": "604aa9ed-b37b-4e61-b96e-a6dfdad42ca7",
   "metadata": {},
   "outputs": [],
   "source": [
    "simulation_opt = {\n",
    "    \"startTime\": second_index[0],\n",
    "    \"stopTime\": second_index[-1],\n",
    "    \"stepSize\": 300,\n",
    "    \"tolerance\": 1e-06,\n",
    "    \"solver\": \"dassl\",\n",
    "    \"outputFormat\": \"csv\",\n",
    "}"
   ]
  },
  {
   "cell_type": "markdown",
   "id": "37bab369-bbcf-40ff-ba5f-fc2d78a3de32",
   "metadata": {},
   "source": [
    "# 4. Run the simulation"
   ]
  },
  {
   "cell_type": "markdown",
   "id": "02e59be3-e4f4-44f0-adcd-66a43d200146",
   "metadata": {},
   "source": [
    "Set the initial and parameter values in a dictionary. They can either be set before simluation (with `set_param_dict()` method, or when using method `simulate()`. Each change of paramter value overwrite the previous one. "
   ]
  },
  {
   "cell_type": "code",
   "execution_count": null,
   "id": "c43d997c-5cac-4149-97a1-f849dbac0d4c",
   "metadata": {},
   "outputs": [],
   "source": [
    "parameter_dict_OM = {\n",
    "    \"Twall_init\": 24.81 + 273.15,\n",
    "    \"Tins1_init\": 19.70 + 273.15,\n",
    "    \"Tins2_init\": 10.56 + 273.15,\n",
    "    \"Tcoat_init\": 6.4 + 273.15,\n",
    "    \"Lambda_ins.k\": 0.04,\n",
    "}"
   ]
  },
  {
   "cell_type": "markdown",
   "id": "65fd55a9-959f-4bef-9ee2-14d0c617b75b",
   "metadata": {},
   "source": [
    "Simulation flags can also be specified in <code>simulate()</code> method. Overview of possible simulation flags can be found here: https://openmodelica.org/doc/OpenModelicaUsersGuide/latest/simulationflags.html. Note that the simulation flag <code>override</code> cannot be used, as it was already used in class <code>OMModel</code> with <code>simulation_options</code>.\n",
    "\n",
    "If x boundary conditions do not\n",
    "    have a DateTime index (seconds int), a year can be specified to convert\n",
    "    int seconds index to a datetime index. If simulation spans overs several\n",
    "    years, it shall be the year when it begins.\n",
    "\n",
    "The output of the `simulate()` method is a dataframe, containing the outputs listed in output_list."
   ]
  },
  {
   "cell_type": "code",
   "execution_count": null,
   "id": "d52fdda8-4115-4a13-a0c3-b05459a0f807",
   "metadata": {},
   "outputs": [],
   "source": [
    "init_res_OM = simu_OM.simulate(\n",
    "    simflags=\"-initialStepSize=60 -maxStepSize=3600 -w -lv=LOG_STATS\",\n",
    "    parameter_dict=parameter_dict_OM,\n",
    "    x=reference_df,\n",
    "    year=2024,\n",
    ")\n",
    "init_res_OM.head()"
   ]
  },
  {
   "cell_type": "markdown",
   "id": "6b20f490-36ec-4da1-9f80-111443ae4a1f",
   "metadata": {},
   "source": [
    "Plotted results"
   ]
  },
  {
   "cell_type": "code",
   "execution_count": null,
   "id": "e34b7144-b823-4796-8fa6-2f01f8bf2d52",
   "metadata": {},
   "outputs": [],
   "source": [
    "init_res_OM.plot()"
   ]
  },
  {
   "cell_type": "code",
   "execution_count": null,
   "id": "c0b58fca-65de-462d-b6a5-fd34707db05b",
   "metadata": {},
   "outputs": [],
   "source": []
  }
 ],
 "metadata": {
  "kernelspec": {
   "display_name": "Python 3 (ipykernel)",
   "language": "python",
   "name": "python3"
  },
  "language_info": {
   "codemirror_mode": {
    "name": "ipython",
    "version": 3
   },
   "file_extension": ".py",
   "mimetype": "text/x-python",
   "name": "python",
   "nbconvert_exporter": "python",
   "pygments_lexer": "ipython3",
   "version": "3.10.13"
  }
 },
 "nbformat": 4,
 "nbformat_minor": 5
}
