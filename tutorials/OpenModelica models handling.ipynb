{
 "cells": [
  {
   "cell_type": "code",
   "execution_count": null,
   "metadata": {},
   "outputs": [],
   "source": [
    "%load_ext autoreload\n",
    "%autoreload 2"
   ]
  },
  {
   "cell_type": "code",
   "execution_count": null,
   "metadata": {
    "pycharm": {
     "is_executing": true
    }
   },
   "outputs": [],
   "source": [
    "import pandas as pd\n",
    "from pathlib import Path\n",
    "import plotly.graph_objects as go\n",
    "import os\n",
    "from sklearn.metrics import mean_squared_error"
   ]
  },
  {
   "cell_type": "markdown",
   "metadata": {},
   "source": [
    "# OpenModelica Models in Python\n",
    "\n",
    "This tutorial explains first how to handle OpenModelica models on python then how to transform them into functions (usefull for CORRAI).\n",
    "\n",
    "## Physical model\n",
    "For this example we propose a resistance/capacity approach.\n",
    " Based on electrical circuit analogy, each layer of the wall is modeled by two resistance and a capacity:\n",
    " \n",
    " <img src=\"images/Wall_model.png\"  height=\"300\">\n",
    "\n",
    "The following is a brief description of the thermal model, as it is not the scope of this document. See the <code>*mo</code> for full informations.\n",
    "\n",
    "- Each wall layer is modeled by 2 thermal resistances and a capacity.\n",
    "    - Resistances : $ R_1 = R_2 = \\frac{ep_{layer}}{lambda_{layer} \\times 2} $\n",
    "    - Capacity : $ C = ep_{layer} \\times rho_{layer} \\times cap_{layer} $\n",
    "\n",
    "\n",
    "- Inside and outside convection/conduction transfers are model as a constant value thermal resistance.\n",
    "\n",
    "\n",
    "- Infrared transfers are considered :\n",
    "    - With the sky, with $ T_{sky} = 0.0552T_{ext}^{1.5} $\n",
    "    - With the surrounding considered to be at $ T_{ext} $\n",
    "\n",
    "\n",
    "- Short wave solar radiation heat flux is computed $Sw_{gain} = Pyr \\times \\alpha_{coat} $ with $Pyr$ the measured solar radiation onthe wall (W/m²) and  $\\alpha_{coat}$ the coating solar absorbtion coefficient.\n",
    "\n",
    "\n",
    "- Temperatures $ T_{ext}$ and $T_{int} $ are boundary conditions"
   ]
  },
  {
   "cell_type": "markdown",
   "metadata": {},
   "source": [
    "## Import the Open Modelica model\n",
    "\n",
    "#### Load the data\n",
    "First we load measured data used for the calibration or boundary conditions, suing <code>pandas</code>."
   ]
  },
  {
   "cell_type": "code",
   "execution_count": null,
   "metadata": {
    "pycharm": {
     "name": "#%%\n"
    }
   },
   "outputs": [],
   "source": [
    "reference_df = pd.read_csv(\n",
    "    \"C:/Users/thubert/PycharmProjects/modelitool/tutorials/ressources/study_df.csv\",\n",
    "    index_col=0,\n",
    "    parse_dates=True\n",
    ")"
   ]
  },
  {
   "cell_type": "markdown",
   "metadata": {},
   "source": [
    "#### Set simulation options\n",
    "Initial conditions for the layers temperatures are taken from the measured data.\n",
    " It is assumed to be the mean temperature measured by the sensors on each face of a layer.\n",
    " In python and using modelica \"object name\", it can be written :"
   ]
  },
  {
   "cell_type": "code",
   "execution_count": null,
   "metadata": {},
   "outputs": [],
   "source": [
    "init_dict = {\n",
    "    \"Twall_init\": 24.81 + 273.15,\n",
    "    \"Tins1_init\": 19.70 + 273.15,\n",
    "    \"Tins2_init\": 10.56 + 273.15,\n",
    "    \"Tcoat_init\": 6.4 + 273.15,\n",
    "}"
   ]
  },
  {
   "cell_type": "markdown",
   "metadata": {},
   "source": [
    "We specify the simulation running options. As the initial condition, it is written\n",
    "as a python dictionary.\n",
    "\n",
    "In Modelica, <code>startTime</code> and <code>stopTime</code> correspond to the number\n",
    "of seconds since the beginning of the year. The values can be found in the file created\n",
    "earlier using <code>df_to_combitimetable</code>\n",
    "\n",
    "Another way is to use the index of the <code>DataFrame</code> we just created.\n",
    "The modelitool function <code>modelitool.combitabconvert.datetime_to_seconds</code>\n",
    "helps you convert datetime index in seconds.\n",
    "\n",
    "For the sensitivity Analysis we will just use the 2 first day 22/03 and 23/03\n",
    "\n",
    "<code>stepSize</code> is the simulation timestep size. In this case it's 5min or\n",
    "300sec.\n",
    "\n",
    "<code>tolerance</code> and <code>solver</code> are related to solver configuration\n",
    "do not change if you don't need to."
   ]
  },
  {
   "cell_type": "code",
   "execution_count": null,
   "metadata": {},
   "outputs": [],
   "source": [
    "from modelitool.combitabconvert import datetime_to_seconds"
   ]
  },
  {
   "cell_type": "code",
   "execution_count": null,
   "metadata": {
    "pycharm": {
     "name": "#%%\n"
    }
   },
   "outputs": [],
   "source": [
    "from modelitool.combitabconvert import datetime_to_seconds\n",
    "time_corr = pd.Series(\n",
    "    datetime_to_seconds(reference_df.index),\n",
    "    index=reference_df.index\n",
    ")"
   ]
  },
  {
   "cell_type": "code",
   "execution_count": null,
   "metadata": {},
   "outputs": [],
   "source": [
    "second_index = datetime_to_seconds(reference_df.loc[\"2018-03-22\":\"2018-03-23\"].index)\n",
    "\n",
    "simulation_opt = {\n",
    "        \"startTime\": second_index[0],\n",
    "        \"stopTime\": second_index[-1],\n",
    "        \"stepSize\": 300,\n",
    "        \"tolerance\": 1e-06,\n",
    "        \"solver\": \"dassl\",\n",
    "        \"outputFormat\": \"csv\"\n",
    "}"
   ]
  },
  {
   "cell_type": "markdown",
   "metadata": {},
   "source": [
    "We can now define a modelitool <code>Simulator</code>. This object is designed to handle modelica simulation and output post treatment (it uses the library **OmPython** https://pypi.org/project/pydelica/)"
   ]
  },
  {
   "cell_type": "code",
   "execution_count": null,
   "metadata": {},
   "outputs": [],
   "source": [
    "from modelitool.simulate import Simulator"
   ]
  },
  {
   "cell_type": "code",
   "execution_count": null,
   "metadata": {
    "pycharm": {
     "name": "#%%\n"
    }
   },
   "outputs": [],
   "source": [
    "# Values in output list correspond to sensors name and value \"T\"\n",
    "simu = Simulator(\n",
    "    model_path=r\"C:/Users\\thubert\\PycharmProjects\\tutorials\\resources/etics_v0.mo\",\n",
    "    simulation_options=simulation_opt,\n",
    "    simulation_path=Path(r\"C:\\Users\\thubert\\Documents\\Modelica\\temp\"),\n",
    "    init_parameters=init_dict,\n",
    "    boundary_df=reference_df,\n",
    "    output_list=[\"T_coat_ins.T\",\n",
    "                 \"T_ins_ins.T\",\n",
    "                 \"Tw_out.T\"],\n",
    "    lmodel=[\"Modelica\"]\n",
    ")"
   ]
  },
  {
   "cell_type": "markdown",
   "metadata": {},
   "source": [
    "You can set values to parameters using method <code>set_param_dict</code>"
   ]
  },
  {
   "cell_type": "code",
   "execution_count": null,
   "metadata": {
    "pycharm": {
     "name": "#%%\n"
    }
   },
   "outputs": [],
   "source": [
    "# These parameters have been identified in a previous study.\n",
    "simu.set_param_dict({\n",
    "    'IR_Amb.Gr': 0.0631,\n",
    "    'IR_sky.Gr': 0.0466,\n",
    "})"
   ]
  },
  {
   "cell_type": "markdown",
   "metadata": {},
   "source": [
    "#### Run the simulation\n",
    "\n",
    "From here, it is very simple to run a simulation using <code>simulate()</code>\n",
    "method, and to get the results required in <code>output_list</code> using\n",
    "<code>get_results()</code> method.\n",
    "Simflags similar to flags in OpenModelica can be specified."
   ]
  },
  {
   "cell_type": "code",
   "execution_count": null,
   "metadata": {},
   "outputs": [],
   "source": [
    "simu.simulate(simflags=\"-noEventEmit -noRestart\")"
   ]
  },
  {
   "cell_type": "markdown",
   "metadata": {},
   "source": [
    "#### Results"
   ]
  },
  {
   "cell_type": "code",
   "execution_count": null,
   "metadata": {},
   "outputs": [],
   "source": [
    "results = simu.get_results()\n",
    "results"
   ]
  },
  {
   "cell_type": "markdown",
   "metadata": {},
   "source": [
    "*Important Note: Temperature outputs of the modelica model are in Kelvin.\n",
    "We manually add 273.15°C to compare results or to compare measurementand model outputs*"
   ]
  },
  {
   "cell_type": "code",
   "execution_count": null,
   "metadata": {},
   "outputs": [],
   "source": [
    "# Plotly lines\n",
    "import plotly.graph_objects as go\n",
    "\n",
    "fig = go.Figure()\n",
    "fig.add_trace(go.Scatter(\n",
    "    x=results.index,\n",
    "    y=results[\"T_ins_ins.T\"],\n",
    "    fill=None,\n",
    "    mode='lines',\n",
    "    line_color='brown',\n",
    "    name=\"Model_results\"\n",
    "))\n",
    "\n",
    "fig.add_trace(go.Scatter(\n",
    "    x=results.index,\n",
    "    y=reference_df.T_Ins_Ins + 273.15,\n",
    "    fill='tonexty', # fill area between trace0 and trace1\n",
    "    mode='lines',\n",
    "    line_color='orange',\n",
    "    name=\"Reference_measure\"\n",
    "))\n",
    "\n",
    "fig.update_layout(\n",
    "    title='Model vs. Reality : temperature between two layers of insulation',\n",
    "    xaxis_title='Date',\n",
    "    yaxis_title='Temperature [K]')\n",
    "\n",
    "fig.show()"
   ]
  },
  {
   "cell_type": "markdown",
   "metadata": {},
   "source": [
    "## Corrai connector\n",
    "Various methods used in other libraries (optimisation, calibration, etc.) might require functions as model inputs. We created the class <code>ModelicaFunction</code> that defines a function based on a Modelitool Simulator."
   ]
  },
  {
   "cell_type": "code",
   "execution_count": null,
   "metadata": {},
   "outputs": [],
   "source": [
    "from modelitool.corrai_connector import ModelicaFunction"
   ]
  },
  {
   "cell_type": "markdown",
   "metadata": {},
   "source": [
    "The class <code>ModelicaFunction</code> requires several arguments: \n",
    "- a simulator, which is the fully configured Modelitool Simulator object we defined earlier\n",
    "- a list of parameters\n",
    "- a list of indicators (or objectives)\n",
    "\n",
    "Let's first define the parameters using enumerators from class <code>Parameter</code>:interval of possible values and initial value.\n",
    "The names must correspond to Modelica syntax"
   ]
  },
  {
   "cell_type": "code",
   "execution_count": null,
   "metadata": {},
   "outputs": [],
   "source": [
    "from corrai.base.parameter import Parameter"
   ]
  },
  {
   "cell_type": "code",
   "execution_count": null,
   "metadata": {
    "pycharm": {
     "name": "#%%\n"
    }
   },
   "outputs": [],
   "source": [
    "id_params = [   \n",
    "    {\n",
    "        Parameter.NAME: 'Lambda_ins.k',\n",
    "        Parameter.INTERVAL: (0.04*0.4, 0.04*1.6),\n",
    "        Parameter.INIT_VALUE: 0.0,\n",
    "        Parameter.TYPE: \"Real\"\n",
    "    }, \n",
    "    {    \n",
    "        Parameter.NAME: 'Alpha_clo.k',\n",
    "        Parameter.INTERVAL: (0.2, 0.95),\n",
    "        Parameter.INIT_VALUE: 0.0,\n",
    "        Parameter.TYPE: \"Real\"\n",
    "    }, \n",
    "]"
   ]
  },
  {
   "cell_type": "markdown",
   "metadata": {},
   "source": [
    "Then, we choose two temperatures as our indicators:\n",
    "- a temperature directly calculated in the OpenModelica Models (specified as an output in the Simulator) \n",
    "- a custom temperature \"T_moy_wall\"."
   ]
  },
  {
   "cell_type": "code",
   "execution_count": null,
   "metadata": {},
   "outputs": [],
   "source": [
    "indicators = [\"T_ins_ins.T\", \"T_moy_wall\"]"
   ]
  },
  {
   "cell_type": "markdown",
   "metadata": {},
   "source": [
    "As \"T_moy_wall\" is not a direct output of the modelica model, its calculation should be specified in a seperate dictionnary, giving parameters used for its calculation and the related function."
   ]
  },
  {
   "cell_type": "code",
   "execution_count": null,
   "metadata": {},
   "outputs": [],
   "source": [
    "def mean_and_offset(x, y):\n",
    "    return (x + y)/2 + 0.02 \n",
    "\n",
    "custom_ind_dict = {\n",
    "    \"T_moy_wall\": {\n",
    "        \"depends_on\": [\"T_ins_ins.T\", \"Tw_out.T\"],\n",
    "        \"function\": mean_and_offset\n",
    "    }\n",
    "}"
   ]
  },
  {
   "cell_type": "markdown",
   "metadata": {},
   "source": [
    " A reference dictionary can be specified if any of the indicators is to be compared to existing data using an aggregation method. "
   ]
  },
  {
   "cell_type": "code",
   "execution_count": null,
   "metadata": {},
   "outputs": [],
   "source": [
    "reference_dict = {\n",
    "    \"T_ins_ins.T\": \"T_Ins_Ins\"\n",
    "}"
   ]
  },
  {
   "cell_type": "markdown",
   "metadata": {},
   "source": [
    "The used aggregation methods are _**mean**_ by default. If a reference dictionnary is used, you should specify an aggregation methods using predicted and ground truth data, such as : \n",
    "- Normalise mean biased error\n",
    "- Coefficient of variation of the root mean squared error between measured and modeled data"
   ]
  },
  {
   "cell_type": "code",
   "execution_count": null,
   "metadata": {},
   "outputs": [],
   "source": [
    "from modelitool.metrics import  nmbe\n",
    "from modelitool.metrics import cv_rmse\n",
    "\n",
    "agg_methods_dict = {\n",
    "    \"T_ins_ins.T\": cv_rmse,\n",
    "}"
   ]
  },
  {
   "cell_type": "markdown",
   "metadata": {},
   "source": [
    "Finally, we create the python object mf using <code>ModelicaFunction</code>. This is the object that can be used in CORRAI."
   ]
  },
  {
   "cell_type": "code",
   "execution_count": null,
   "metadata": {},
   "outputs": [],
   "source": [
    "training_set = reference_df[[\"T_Ins_Ins\"]].loc[\"2018-03-22\":\"2018-03-23\"] + 273.15\n",
    "\n",
    "mf = ModelicaFunction(\n",
    "    simulator=simu,\n",
    "    param_list=id_params,\n",
    "    agg_methods_dict=agg_methods_dict,\n",
    "    indicators=indicators,\n",
    "    reference_df=training_set,\n",
    "    reference_dict=reference_dict,\n",
    "    custom_ind_dict = custom_ind_dict\n",
    ")"
   ]
  },
  {
   "cell_type": "markdown",
   "metadata": {},
   "source": [
    "## Application \n",
    "Let's see an application using CORRAI library, for an optimization. Let's define a mono objective problem : minimize the cv_rmse on \"T_ins_ins.T\" optmizing the values of $\\lambda_{etics}$ and $\\alpha_{coating}$"
   ]
  },
  {
   "cell_type": "code",
   "execution_count": null,
   "metadata": {},
   "outputs": [],
   "source": [
    "indicators_application = [\"T_ins_ins.T\"]\n",
    "\n",
    "mf_app = ModelicaFunction(\n",
    "        simulator=simu,\n",
    "        param_list=id_params,\n",
    "        agg_methods_dict=agg_methods_dict,\n",
    "        indicators=indicators_application,\n",
    "        reference_df=training_set,\n",
    "        reference_dict=reference_dict,\n",
    ")\n",
    "\n",
    "from corrai.multi_optimize import MyProblem\n",
    "\n",
    "problem = MyProblem(\n",
    "    parameters=id_params,\n",
    "    obj_func_list=[mf_app],\n",
    "    func_list=[],\n",
    "    function_names=indicators_application,\n",
    "    constraint_names=[],\n",
    ")"
   ]
  },
  {
   "cell_type": "markdown",
   "metadata": {},
   "source": [
    "We choose here a genetic algorithm for a single-objective problem from pymoo (https://pymoo.org/algorithms/soo/ga.html). It can be easily customized with different evolutionary operators and applies to a broad category of problems."
   ]
  },
  {
   "cell_type": "code",
   "execution_count": null,
   "metadata": {},
   "outputs": [],
   "source": [
    "from pymoo.algorithms.soo.nonconvex.ga import GA\n",
    "from pymoo.problems import get_problem\n",
    "from pymoo.optimize import minimize\n",
    "\n",
    "algorithm = GA(\n",
    "    pop_size=20,\n",
    "    eliminate_duplicates=True\n",
    ")\n",
    "\n",
    "res = minimize(problem,\n",
    "               algorithm,\n",
    "               seed=1,\n",
    "               verbose=False)\n",
    "\n",
    "print(\"Best solution found: \\nX = %s\\nF = %s\" % (res.X, res.F))"
   ]
  },
  {
   "cell_type": "markdown",
   "metadata": {},
   "source": [
    "Let's run the simulation with these values."
   ]
  },
  {
   "cell_type": "code",
   "execution_count": null,
   "metadata": {},
   "outputs": [],
   "source": [
    "simu.set_param_dict({\n",
    "    'Lambda_ins.k': res.X[0], # 0.064\n",
    "    'Alpha_clo.k': res.X[1], # 0.95\n",
    "})"
   ]
  },
  {
   "cell_type": "code",
   "execution_count": null,
   "metadata": {},
   "outputs": [],
   "source": [
    "simu.simulate(simflags=\"-noEventEmit -noRestart\")\n",
    "results_optim = simu.get_results()"
   ]
  },
  {
   "cell_type": "markdown",
   "metadata": {},
   "source": [
    "#### Results after optimization"
   ]
  },
  {
   "cell_type": "code",
   "execution_count": null,
   "metadata": {},
   "outputs": [],
   "source": [
    "fig = go.Figure()\n",
    "fig.add_trace(go.Scatter(\n",
    "    x=results.index,\n",
    "    y=results[\"T_ins_ins.T\"],\n",
    "    fill=None,\n",
    "    mode='lines',\n",
    "    line_color='red',\n",
    "    name=\"First_results\"\n",
    "))\n",
    "\n",
    "fig.add_trace(go.Scatter(\n",
    "    x=results_optim.index,\n",
    "    y=results_optim[\"T_ins_ins.T\"],\n",
    "    fill=None,\n",
    "    mode='lines',\n",
    "    line_color='brown',\n",
    "    name=\"Optim_results\"\n",
    "))\n",
    "\n",
    "fig.add_trace(go.Scatter(\n",
    "    x=results.index,\n",
    "    y=reference_df.T_Ins_Ins + 273.15,\n",
    "    fill='tonexty', \n",
    "    mode='lines',\n",
    "    line_color='orange',\n",
    "    name=\"Reference_measure\"\n",
    "))\n",
    "\n",
    "fig.update_layout(\n",
    "    title='Optimization vs. Reality : temperature between two layers of insulation',\n",
    "    xaxis_title='Date',\n",
    "    yaxis_title='Temperature [K]')\n",
    "\n",
    "fig.show()"
   ]
  },
  {
   "cell_type": "markdown",
   "metadata": {},
   "source": [
    "The results are not satisfying :\n",
    "- The insulation heat conductivity is set to 0.064, the maximum allowed value. This is very unlikely.\n",
    "- The solar radiation heat gain $\\alpha_{coating}$ is set to the maximum allowed value 0.95\n",
    "whereas the true value should be around 0.7.\n",
    "The algorithm tried to reproduce the high temperatures by maximizing the solar heat gain and the heat transfers\n",
    "through the first layer of insulation, leading to probably false results\n",
    "\n",
    "There could be a problem linked to the model heat capacity that have not been considered here.\n",
    "\n",
    "In this case, we succeeded at creating a model that more or less reproduce the wall thermal behavior.\n",
    "Unfortunatly we cannot draw any conclusion on the wall material properties. That's a shame as it was the whole point\n",
    "of the experiment.\n",
    "\n",
    "Several imporvements can be made to this test bed :\n",
    "- Perform additionnal measurements such as heat flux\n",
    "- Provide a more accurate model (better description of phenomenon). But be carefull, this may required more accurate measure such as wind speed and direction.\n",
    "\n",
    "Finally other identification method (and much more complex and computationnaly intensive) may be used such as stochastic method based on Baye's theorem. This can be performed using CORRAI library, and in future will be described in a tutorial."
   ]
  }
 ],
 "metadata": {
  "kernelspec": {
   "display_name": "Python 3 (ipykernel)",
   "language": "python",
   "name": "python3"
  },
  "language_info": {
   "codemirror_mode": {
    "name": "ipython",
    "version": 3
   },
   "file_extension": ".py",
   "mimetype": "text/x-python",
   "name": "python",
   "nbconvert_exporter": "python",
   "pygments_lexer": "ipython3",
   "version": "3.9.16"
  }
 },
 "nbformat": 4,
 "nbformat_minor": 1
}
